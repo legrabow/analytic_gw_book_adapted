{
 "cells": [
  {
   "cell_type": "markdown",
   "metadata": {},
   "source": [
    "<img src=\"../part_of_cover_bakker_post.png\" width=\"800px\">\n",
    "\n",
    "The Python code provided below is from <br>\n",
    "**Analytical Groundwater Modeling: Theory and Applications Using Python** <br>\n",
    "by *Mark Bakker and Vincent Post* <br>\n",
    "ISBN 9781138029392\n",
    "\n",
    "The book is published by CRC press and is available [here](https://www.routledge.com/Analytical-Groundwater-Modeling-Theory-and-Applications-using-Python/Bakker-Post/p/book/9781138029392).\n",
    "\n",
    "This Notebook is provided under the [MIT license](https://github.com/pythongroundwaterbook/analytic_gw_book/blob/main/LICENSE). \n",
    "\n",
    "<p>© 2022 Mark Bakker and Vincent Post</p>"
   ]
  },
  {
   "cell_type": "markdown",
   "metadata": {},
   "source": [
    "# Steady two-dimensional flow to wells in uniform background flow"
   ]
  },
  {
   "cell_type": "code",
   "execution_count": 1,
   "metadata": {
    "hideCode": false,
    "hidePrompt": false,
    "tags": [
     "hide_input"
    ]
   },
   "outputs": [],
   "source": [
    "%matplotlib inline\n",
    "import numpy as np\n",
    "import matplotlib.pyplot as plt\n",
    "plt.rcParams[\"figure.figsize\"] = (8, 3) # set default figure size\n",
    "plt.rcParams[\"contour.negative_linestyle\"] = 'solid' # set default line style\n",
    "plt.rcParams[\"figure.autolayout\"] = True # same at tight_layout after every plot"
   ]
  },
  {
   "cell_type": "markdown",
   "metadata": {
    "hideCode": false,
    "hidePrompt": false
   },
   "source": [
    "## A single well in uniform background flow"
   ]
  },
  {
   "cell_type": "code",
   "execution_count": 2,
   "metadata": {
    "hideCode": false,
    "hidePrompt": false
   },
   "outputs": [],
   "source": [
    "# parameters\n",
    "xw = 0 # x-location of well, m\n",
    "yw = 0 # y-location of well, m\n",
    "Q = 80 # discharge of well, m^3/d\n",
    "U = 0.5 # uniform flow in x-direction, m^2/d"
   ]
  },
  {
   "cell_type": "code",
   "execution_count": 3,
   "metadata": {
    "hideCode": false,
    "hidePrompt": false
   },
   "outputs": [],
   "source": [
    "# solution\n",
    "xs = xw + Q / (2 * np.pi * U)\n",
    "xg, yg = np.meshgrid(np.linspace(-200, 100, 100), np.linspace(-100, 100, 100))\n",
    "psi = Q / (2 * np.pi) * np.arctan2(yg, xg) - U * yg"
   ]
  },
  {
   "cell_type": "code",
   "execution_count": 4,
   "metadata": {
    "tags": [
     "hide_output"
    ]
   },
   "outputs": [
    {
     "data": {
      "image/png": "[encoded data removed]",
      "text/plain": [
       "<Figure size 576x216 with 1 Axes>"
      ]
     },
     "metadata": {
      "filenames": {
       "image/png": "/home/grabow/git/analytic_gw_book_adapted/_build/jupyter_execute/chapter7/chapter7_bakker_post_6_0.png"
      },
      "needs_background": "light"
     },
     "output_type": "display_data"
    }
   ],
   "source": [
    "# basic streamline plot, left graph\n",
    "plt.subplot(111, aspect=1)\n",
    "plt.contour(xg, yg, psi, 10, colors='C1', linestyles='-')\n",
    "plt.contour(xg, yg, psi, [-U * yw], colors='k', linestyles='-') # envelope\n",
    "plt.plot(xs, 0, 'C2x'); # stagnation point\n",
    "plt.xlabel('x (m)')\n",
    "plt.ylabel('y (m)');"
   ]
  },
  {
   "cell_type": "code",
   "execution_count": 5,
   "metadata": {
    "hideCode": false,
    "hidePrompt": false
   },
   "outputs": [],
   "source": [
    "# additional parameters\n",
    "n = 0.3 # porosity, -\n",
    "H = 20 # aquifer thickenss, m\n",
    "rw = 0.3 # radius of well, m\n",
    "tmax = 10 * 365 # total travel time, d\n",
    "t = np.arange(0, 10 * 365 + 1, 365 / 20) # times pathline is returned, d"
   ]
  },
  {
   "cell_type": "code",
   "execution_count": 6,
   "metadata": {
    "hideCode": false,
    "hidePrompt": false
   },
   "outputs": [],
   "source": [
    "# functions\n",
    "def vxvy(t, xy, xw=0, yw=0):\n",
    "    x, y = xy\n",
    "    rsq = (x - xw)**2 + (y - yw)**2\n",
    "    Qx = U - Q / (2 * np.pi) * (x - xw) / rsq\n",
    "    Qy = -Q / (2 * np.pi) * (y - yw) / rsq\n",
    "    return np.array([Qx, Qy]) / (n * H)\n",
    "\n",
    "def reached_well(t, xy):\n",
    "    return np.sqrt((xy[0] - xw) ** 2 + (xy[1] - yw) ** 2) - rw\n",
    "\n",
    "reached_well.terminal = True # specify the terminal attribute"
   ]
  },
  {
   "cell_type": "code",
   "execution_count": 7,
   "metadata": {
    "hideCode": false,
    "hidePrompt": false
   },
   "outputs": [
    {
     "ename": "ModuleNotFoundError",
     "evalue": "No module named 'scipy'",
     "output_type": "error",
     "traceback": [
      "\u001b[0;31m---------------------------------------------------------------------------\u001b[0m",
      "\u001b[0;31mModuleNotFoundError\u001b[0m                       Traceback (most recent call last)",
      "Input \u001b[0;32mIn [7]\u001b[0m, in \u001b[0;36m<cell line: 2>\u001b[0;34m()\u001b[0m\n\u001b[1;32m      1\u001b[0m \u001b[38;5;66;03m# pathline solution\u001b[39;00m\n\u001b[0;32m----> 2\u001b[0m \u001b[38;5;28;01mfrom\u001b[39;00m \u001b[38;5;21;01mscipy\u001b[39;00m\u001b[38;5;21;01m.\u001b[39;00m\u001b[38;5;21;01mintegrate\u001b[39;00m \u001b[38;5;28;01mimport\u001b[39;00m solve_ivp\n\u001b[1;32m      3\u001b[0m path0 \u001b[38;5;241m=\u001b[39m solve_ivp(vxvy, (\u001b[38;5;241m0\u001b[39m, tmax), y0\u001b[38;5;241m=\u001b[39m[\u001b[38;5;241m-\u001b[39m\u001b[38;5;241m200\u001b[39m, \u001b[38;5;241m50\u001b[39m], t_eval\u001b[38;5;241m=\u001b[39mt, events\u001b[38;5;241m=\u001b[39mreached_well)\n\u001b[1;32m      4\u001b[0m \u001b[38;5;28mprint\u001b[39m(\u001b[38;5;124m'\u001b[39m\u001b[38;5;124mpath0 message:\u001b[39m\u001b[38;5;124m'\u001b[39m, path0\u001b[38;5;241m.\u001b[39mmessage)\n",
      "\u001b[0;31mModuleNotFoundError\u001b[0m: No module named 'scipy'"
     ]
    }
   ],
   "source": [
    "# pathline solution\n",
    "from scipy.integrate import solve_ivp\n",
    "path0 = solve_ivp(vxvy, (0, tmax), y0=[-200, 50], t_eval=t, events=reached_well)\n",
    "print('path0 message:', path0.message)\n",
    "print(f'path0 reached well after {path0.t_events[0][0] / 365: .2f} years')\n",
    "print(f'path0 entered well screen at', path0.y_events)\n",
    "path1 = solve_ivp(vxvy, (0, tmax), y0=[-200, 80], t_eval=t, events=reached_well)\n",
    "print('path1 message:', path1.message)"
   ]
  },
  {
   "cell_type": "code",
   "execution_count": null,
   "metadata": {
    "hideCode": false,
    "hidePrompt": false,
    "tags": [
     "hide_output"
    ]
   },
   "outputs": [],
   "source": [
    "# basic plot\n",
    "plt.subplot(111, aspect=1)\n",
    "plt.plot(path0.y[0], path0.y[1], label='pathline 0')\n",
    "plt.plot(path1.y[0], path1.y[1], label='pathline 1')\n",
    "plt.xlabel('x (m)')\n",
    "plt.ylabel('y (m)')\n",
    "plt.legend();"
   ]
  },
  {
   "cell_type": "markdown",
   "metadata": {},
   "source": [
    "## Well capture zones"
   ]
  },
  {
   "cell_type": "code",
   "execution_count": null,
   "metadata": {
    "hideCode": false,
    "hidePrompt": false
   },
   "outputs": [],
   "source": [
    "# parameters\n",
    "n = 0.25 # porosity, -\n",
    "k = 20 # hydraulic conductivity, m/d\n",
    "H = 15 # aquifer thickness, m\n",
    "dhdx = -0.002 # gradient, -\n",
    "U = -k * H * dhdx # uniform flow, m^2/d\n",
    "Q = 500 # discharge of the well, m^3/d\n",
    "rw = 0.3 # radius of well, m"
   ]
  },
  {
   "cell_type": "code",
   "execution_count": null,
   "metadata": {
    "hideCode": false,
    "hidePrompt": false
   },
   "outputs": [],
   "source": [
    "# solution\n",
    "# coordinates of capture zone envelope\n",
    "theta = np.linspace(-3, -1e-4, 100) # bottom half of envelope\n",
    "r = Q / (2 * np.pi) * theta / (U * np.sin(theta))\n",
    "xcap = r * np.cos(theta)\n",
    "ycap = r * np.sin(theta)\n",
    "# grid inside the capture zone envelope\n",
    "xg = xcap * np.ones((50, len(xcap)))\n",
    "yg = np.zeros_like(xg)\n",
    "for i in range(len(xcap)):\n",
    "    yg[:, i] = np.linspace(ycap[i] + 1e-3, -ycap[i] - 1e-3, 50)\n",
    "# travel time for all grid points inside capture zone envelope\n",
    "theta = np.arctan2(yg, xg)\n",
    "tgrid = -n * H * xg / U - Q * n * H / (2 * np.pi * U ** 2) * np.log(\n",
    "        np.sin(theta - 2 * np.pi * U * yg / Q) / np.sin(theta))"
   ]
  },
  {
   "cell_type": "code",
   "execution_count": null,
   "metadata": {
    "hideCode": false,
    "hidePrompt": false,
    "tags": [
     "hide_output"
    ]
   },
   "outputs": [],
   "source": [
    "# basic capture zone plot\n",
    "plt.subplot(111, aspect=1, xlim=(-1000, 150))\n",
    "plt.plot(0, 0, 'k.')\n",
    "plt.contourf(xg, yg, tgrid, [0, 5 * 362.25, 10 * 365.25])\n",
    "plt.xlabel('x (m)')\n",
    "plt.ylabel('y (m)');"
   ]
  },
  {
   "cell_type": "code",
   "execution_count": null,
   "metadata": {},
   "outputs": [],
   "source": [
    "# additional parameters\n",
    "xw0, yw0 = 0, 0 # x,y-location well 0, m\n",
    "xw1, yw1 = 100, 100 # x,y-location well 1, m"
   ]
  },
  {
   "cell_type": "code",
   "execution_count": null,
   "metadata": {
    "tags": [
     "hide_input"
    ]
   },
   "outputs": [],
   "source": [
    "def vxvy(t, xy, xw=0, yw=0):\n",
    "    x, y = xy\n",
    "    rsq = (x - xw)**2 + (y - yw)**2\n",
    "    Qx = U - Q / (2 * np.pi) * (x - xw) / rsq\n",
    "    Qy = -Q / (2 * np.pi) * (y - yw) / rsq\n",
    "    return np.array([Qx, Qy]) / (n * H)"
   ]
  },
  {
   "cell_type": "code",
   "execution_count": null,
   "metadata": {
    "tags": [
     "hide_output"
    ]
   },
   "outputs": [],
   "source": [
    "# solution and plot\n",
    "def minvxvy(t, xy): # function vxvy from Section 7.1\n",
    "    return -vxvy(t, xy, xw=xw0, yw=yw0) - vxvy(t, xy, xw=xw1, yw=yw1)\n",
    "\n",
    "from scipy.integrate import solve_ivp\n",
    "xstart = rw * np.cos(np.arange(0, 2 * np.pi, np.pi / 10)) # spaced around well\n",
    "ystart = rw * np.sin(np.arange(0, 2 * np.pi, np.pi / 10)) # spaced around well\n",
    "plt.subplot(111, aspect=1)\n",
    "for i in range(len(xstart)):\n",
    "    path = solve_ivp(minvxvy, (0, 5 * 365), [xstart[i] + xw0, ystart[i] + yw0], \n",
    "                     t_eval=np.linspace(0, 5 * 365, 100))\n",
    "    plt.plot(path.y[0], path.y[1], 'C1')\n",
    "    path = solve_ivp(minvxvy, (0, 5 * 365), [xstart[i] + xw1, ystart[i] + yw1], \n",
    "                     t_eval=np.linspace(0, 5 * 365, 100))\n",
    "    plt.plot(path.y[0], path.y[1], 'C2')\n",
    "plt.xlabel('x (m)')\n",
    "plt.ylabel('y (m)');"
   ]
  },
  {
   "cell_type": "markdown",
   "metadata": {
    "hideCode": false,
    "hidePrompt": false
   },
   "source": [
    "## A well in uniform background flow near a river"
   ]
  },
  {
   "cell_type": "code",
   "execution_count": null,
   "metadata": {},
   "outputs": [],
   "source": [
    "# parameters\n",
    "Q = 80 # discharge of well, m^3/d\n",
    "Wu = 0.5 - 0j # complex uniform flow, m^2/d\n",
    "zetaw = 0 + 0j # complex location of well, m"
   ]
  },
  {
   "cell_type": "code",
   "execution_count": null,
   "metadata": {},
   "outputs": [],
   "source": [
    "# solution\n",
    "xg, yg = np.meshgrid(np.linspace(-200, 100, 100), np.linspace(-100, 100, 100))\n",
    "zetag = xg + yg * 1j # grid of complex coordinates\n",
    "omega1 = -Wu * zetag + Q / (2 * np.pi) * np.log(zetag - zetaw)\n",
    "omega2 = -Wu * zetag + Q / (2 * np.pi) * np.log(zetaw - zetag)"
   ]
  },
  {
   "cell_type": "code",
   "execution_count": null,
   "metadata": {
    "tags": [
     "hide_output"
    ]
   },
   "outputs": [],
   "source": [
    "# basic plot of flow net\n",
    "plt.subplot(121, aspect=1)\n",
    "plt.contour(xg, yg, omega1.real, colors='C0')\n",
    "plt.contour(xg, yg, omega1.imag, colors='C1', linestyles='-')\n",
    "plt.contour(xg, yg, omega1.imag, [0], colors='k')\n",
    "plt.xlabel('x (m)')\n",
    "plt.ylabel('y (m)')\n",
    "plt.subplot(122, aspect=1)\n",
    "plt.contour(xg, yg, omega2.real, colors='C0')\n",
    "plt.contour(xg, yg, omega2.imag, colors='C1', linestyles='-')\n",
    "plt.contour(xg, yg, omega2.imag, [-40, 40], colors='k')\n",
    "plt.xlabel('x (m)');"
   ]
  },
  {
   "cell_type": "code",
   "execution_count": null,
   "metadata": {},
   "outputs": [],
   "source": [
    "# parameters\n",
    "dhdx = -0.001 # head gradient, -\n",
    "h0 = 10 # water level in river, m\n",
    "T = 100 # transmissivity, m^2/d\n",
    "UL = -T * dhdx # uniform flow on left side of river, m^2/d\n",
    "UR = -UL # uniform flow on right side of river, m^2/d\n",
    "d = 50 # distance between well and river, m\n",
    "phi0 = T * h0 # potential along the river, m^3/d\n",
    "Qcr = np.pi * UL * d # critical discharge, m^3/d\n",
    "print(f'{Qcr = :.2f} m^3/d')"
   ]
  },
  {
   "cell_type": "code",
   "execution_count": null,
   "metadata": {
    "hideCode": false,
    "hidePrompt": false
   },
   "outputs": [],
   "source": [
    "# solution\n",
    "def omega(x, y, Q, d=d, phi0=phi0):\n",
    "    zeta = x + y * 1j\n",
    "    if x <= 0:\n",
    "        om = -UL * zeta + Q / (2 * np.pi) * \\\n",
    "             np.log((zeta + d) / (d - zeta)) + phi0\n",
    "    else:\n",
    "        om = -UR * zeta + phi0\n",
    "    return om\n",
    "\n",
    "omegavec = np.vectorize(omega) # vectorized version of omega function\n",
    "\n",
    "from numpy.lib.scimath import sqrt as csqrt\n",
    "xg, yg = np.meshgrid(np.linspace(-200, 50, 200), np.linspace(-100, 100, 200))\n",
    "om1 = omegavec(xg, yg, Q=Qcr / 2) # Q = half critical discharge\n",
    "om2 = omegavec(xg, yg, Q=2 * Qcr) # Q = twice critical discharge\n",
    "zetas = csqrt(d ** 2  -  2 * Qcr * d / (np.pi * UL)) # Q = 2Qcr\n",
    "ys = zetas.imag # positive y-location of stagnation point\n",
    "delQ = omega(0, ys, 2 *  Qcr).imag - omega(0, -ys, 2 * Qcr).imag\n",
    "print(f'fraction of water from river for Q = 2Q_cr: {delQ / (2 * Qcr):.2f}')"
   ]
  },
  {
   "cell_type": "code",
   "execution_count": null,
   "metadata": {
    "hideCode": false,
    "hidePrompt": false,
    "tags": [
     "hide_output"
    ]
   },
   "outputs": [],
   "source": [
    "# basic flow nets\n",
    "plt.subplot(121, aspect=1)\n",
    "plt.contour(xg, yg, om1.real, np.arange(phi0 - 30, phi0 + 30, Qcr / 8), colors='C0')\n",
    "plt.contour(xg, yg, om1.imag, np.arange(-2 * Qcr, 3 * Qcr, Qcr / 8), colors='C1')\n",
    "plt.xlabel('x (m)')\n",
    "plt.ylabel('y (m)')\n",
    "plt.subplot(122, aspect=1)\n",
    "plt.contour(xg, yg, om2.real, np.arange(phi0 - 30, phi0 + 30, Qcr / 8), colors='C0')\n",
    "plt.contour(xg, yg, om2.imag, np.arange(-2 * Qcr, 3 * Qcr, Qcr / 8), colors='C1')\n",
    "plt.xlabel('x (m)');"
   ]
  },
  {
   "cell_type": "markdown",
   "metadata": {
    "hideCode": false,
    "hidePrompt": false
   },
   "source": [
    "## A well in uniform background flow near a river with a leaky stream bed"
   ]
  },
  {
   "cell_type": "markdown",
   "metadata": {
    "tags": [
     "hide_input"
    ]
   },
   "source": [
    "<img src=\"figs/fig7.1.png\" width=400>"
   ]
  },
  {
   "cell_type": "code",
   "execution_count": null,
   "metadata": {},
   "outputs": [],
   "source": [
    "# parameters\n",
    "T = 100 # transmissivity, m^2/d\n",
    "h0 = 10 # water level in river, m\n",
    "UL = 0.1 # uniform flow on left side of river, m^2/d\n",
    "UR = -0.1 # unform flow on right side of river, m^2/d\n",
    "d = 50 # distance between well and river, m\n",
    "phi0 = T * h0 # potential along the river, m^3/d\n",
    "rw = 0.3 # radius of well, m\n",
    "kstreambed = 0.02 # hydraulic conductivity of streambed, m/d\n",
    "Hstreambed = 0.2 # thickness of streambed, m\n",
    "B = 5 # width of streambed, m\n",
    "c = Hstreambed / kstreambed #  resistance of stream bed, d\n",
    "C = B / c # conductance of streambed, m/d\n",
    "print(f'leakage factor below stream: {np.sqrt(T * c):.0f} m')"
   ]
  },
  {
   "cell_type": "code",
   "execution_count": null,
   "metadata": {},
   "outputs": [],
   "source": [
    "# solution\n",
    "from scipy.special import exp1\n",
    "\n",
    "def omegaresriv(x, y, Q):\n",
    "    A = T / C * (UL - UR) + phi0\n",
    "    z = x + y * 1j\n",
    "    if x <= 0:\n",
    "        Z0 = -C / (2 * T) * (z - d)\n",
    "        om = Q / (2 * np.pi) * (np.log((z + d) / (d - z)) -\n",
    "             np.exp(Z0) * exp1(Z0)) - UL * z + A\n",
    "    else:\n",
    "        Z1 = C / (2 * T) * (z + d)\n",
    "        om = -Q / (2 * np.pi) * np.exp(Z1) * exp1(Z1) - UR * z + A\n",
    "    return om\n",
    "\n",
    "omegaresrivvec = np.vectorize(omegaresriv)"
   ]
  },
  {
   "cell_type": "code",
   "execution_count": null,
   "metadata": {},
   "outputs": [],
   "source": [
    "# find critical discharge\n",
    "def Qxriverleft(Q, y): \n",
    "    z = -1e-6 + y * 1j\n",
    "    Z0 = -C / (2 * T) * (z - d)\n",
    "    W = -Q / (2 * np.pi) * (1 / (z + d) +\n",
    "                            C / (2 * T) * np.exp(Z0) * exp1(Z0)) + UL\n",
    "    return W.real\n",
    "    \n",
    "def func(Q):\n",
    "    return Qxriverleft(Q, 0)\n",
    "\n",
    "from scipy.optimize import brentq\n",
    "Qcr2 = brentq(func, 0, 50) # critical discharge with bed resistance\n",
    "Qcr1 = np.pi * UL * d # critical discharge no bed resistance\n",
    "\n",
    "print(f'River bed conductance C = {C:.1f} m^2/d')\n",
    "print(f'Qcr without bed resistance = {Qcr1:.2f} m^3/d')\n",
    "print(f'Qcr with bed resistance = {Qcr2:.2f} m^3/d')"
   ]
  },
  {
   "cell_type": "code",
   "execution_count": null,
   "metadata": {},
   "outputs": [],
   "source": [
    "xg, yg = np.meshgrid(np.linspace(-200, 50, 100), np.linspace(-100, 100, 100))\n",
    "om1 = omegavec(xg, yg, Q=Qcr1) # omegavec from previous section\n",
    "om2 = omegaresrivvec(xg, yg, Q=Qcr2)"
   ]
  },
  {
   "cell_type": "code",
   "execution_count": null,
   "metadata": {
    "hideCode": false,
    "hidePrompt": false,
    "tags": [
     "hide_input"
    ]
   },
   "outputs": [],
   "source": [
    "# solution W (hidden)\n",
    "def Wdis2(x, y, Q):\n",
    "    z = x + y * 1j\n",
    "    if x <= 0:\n",
    "        Z0 = -C / (2 * T) * (z - d)\n",
    "        W = -Q / (2 * np.pi) * (1 / (z + d) +\n",
    "                                C / (2 * T) * np.exp(Z0) * exp1(Z0)) + QxL\n",
    "    else:\n",
    "        Z1 = C / (2 * T) * (z + d)\n",
    "        W = -Q / (2 * np.pi) * (1 / (z + d) -\n",
    "                                C / (2 * T) * np.exp(Z1) * exp1(Z1)) + QxR\n",
    "    return W\n",
    "\n",
    "Wdis2vec = np.vectorize(Wdis2)"
   ]
  },
  {
   "cell_type": "code",
   "execution_count": null,
   "metadata": {
    "tags": [
     "hide_output"
    ]
   },
   "outputs": [],
   "source": [
    "# basic flow nets\n",
    "plt.subplot(121, aspect=1)\n",
    "plt.contour(xg, yg, om1.real, np.arange(0, 2 * phi0, Qcr1 / 8), colors='C0')\n",
    "plt.contour(xg, yg, om1.imag, np.arange(-2 * Qcr1, 3 * Qcr1, Qcr1 / 8), colors='C1')\n",
    "plt.axvline(0, color='lightblue', lw=3)\n",
    "plt.xlabel('x (m)')\n",
    "plt.ylabel('y (m)')\n",
    "plt.subplot(122, aspect=1)\n",
    "plt.contour(xg, yg, om2.real, np.arange(0, 2 * phi0, Qcr2 / 8), colors='C0')\n",
    "plt.contour(xg, yg, om2.imag, np.arange(-2 * Qcr2, 3 * Qcr2, Qcr2 / 8), colors='C1')\n",
    "plt.axvline(0, color='lightblue', lw=3)\n",
    "plt.xlabel('x (m)');"
   ]
  },
  {
   "cell_type": "code",
   "execution_count": null,
   "metadata": {},
   "outputs": [],
   "source": [
    "# changed parameters\n",
    "Q = 2 * Qcr2\n",
    "\n",
    "# solution\n",
    "def func2(ys, Q):\n",
    "    return Qxriverleft(Q, ys)\n",
    "\n",
    "ys = brentq(func2, 0, 2 * d, args=(Q))\n",
    "print(f'point on the river where Qx equals zero: {ys:.2f} m')"
   ]
  },
  {
   "cell_type": "code",
   "execution_count": null,
   "metadata": {},
   "outputs": [],
   "source": [
    "print(f'head at origin: {omegaresriv(0, 0, Q).real / T:.2f} m')\n",
    "print(f'head at well: {omegaresriv(-d + rw, 0, Q).real / T:.2f} m')"
   ]
  },
  {
   "cell_type": "code",
   "execution_count": null,
   "metadata": {},
   "outputs": [],
   "source": [
    "# basic flow nets\n",
    "xg, yg = np.meshgrid(np.linspace(-150, 150, 100), np.linspace(-100, 100, 100))\n",
    "om3 = omegaresrivvec(xg, yg, Q=2 * Qcr2)\n",
    "plt.subplot(111, aspect=1)\n",
    "plt.contour(xg, yg, om3.real, np.arange(0, 2 * phi0, 2 * Qcr1 / 8), colors='C0')\n",
    "plt.contour(xg, yg, om3.imag, np.arange(-2 * Qcr2, 3 * Qcr2, 2 * Qcr2 / 8), colors='C1')\n",
    "plt.axvline(0, color='lightblue', lw=3)\n",
    "plt.xlabel('x (m)')\n",
    "plt.ylabel('y (m)');"
   ]
  },
  {
   "cell_type": "markdown",
   "metadata": {},
   "source": [
    "## A well in uniform background flow near the coast"
   ]
  },
  {
   "cell_type": "code",
   "execution_count": null,
   "metadata": {},
   "outputs": [],
   "source": [
    "# parameters\n",
    "rw = 0.3 # radius of well, m\n",
    "k = 40 # hydraulic conductivity, m/d\n",
    "zb = -20 # elevation of bottom of aquifer, m\n",
    "rhof = 1000 # density of fresh water, kg/m^3\n",
    "rhos = 1025 # density of salt water, kg/m^3\n",
    "U = 1 # uniform flow in x-direction, m^2/d\n",
    "d = 1000 # dischance of well from coast line, m\n",
    "Qcr = np.pi * U * d # critical discharge from well near river, m^3/d\n",
    "Q = Qcr / 2 # discharge of well, m^3/d\n",
    "print(f'dischage of well: {Q:.2f} m^3/d')"
   ]
  },
  {
   "cell_type": "code",
   "execution_count": null,
   "metadata": {},
   "outputs": [],
   "source": [
    "# solution\n",
    "alpha = rhof / (rhos - rhof) # alpha factor\n",
    "phitoe = 0.5 * k * (alpha + 1) / alpha ** 2 * zb ** 2\n",
    "xtoe = -phitoe / U # toe in the absence of pumping\n",
    "\n",
    "def omega(x, y, Q):\n",
    "    zeta = x + y * 1j\n",
    "    om = Q / (2 * np.pi) * np.log((zeta + d) / (d - zeta)) - U * zeta\n",
    "    return om\n",
    "\n",
    "xg, yg = np.meshgrid(np.linspace(-1200, 0, 120), np.linspace(-500, 500, 101))\n",
    "om = omega(xg, yg, Q)"
   ]
  },
  {
   "cell_type": "code",
   "execution_count": null,
   "metadata": {
    "tags": [
     "hide_output"
    ]
   },
   "outputs": [],
   "source": [
    "# basic flow net and potential along y=0\n",
    "plt.subplot(121, aspect=1)\n",
    "plt.contour(xg, yg, om.real, np.arange(-2000, 2000, 100), colors='C0')\n",
    "plt.contour(xg, yg, om.real, [phitoe], colors='k')\n",
    "plt.contour(xg, yg, om.imag, np.arange(-2000, 2000, 100), colors='C1')\n",
    "plt.axvline(xtoe, color='k', linestyle='--')\n",
    "plt.xlabel('x (m)')\n",
    "plt.ylabel('y (m)')\n",
    "plt.subplot(122) # potential along y=0\n",
    "plt.plot(xg[0], om.real[50], label=r'$\\Phi(x,0)$')\n",
    "plt.axhline(phitoe, ls='--', label=r'$\\Phi_{toe}$')\n",
    "plt.legend()\n",
    "plt.xlabel('x (m)')\n",
    "plt.ylabel(r'$\\Phi$ (m$^3$/d)')\n",
    "plt.grid();"
   ]
  },
  {
   "cell_type": "code",
   "execution_count": null,
   "metadata": {},
   "outputs": [],
   "source": [
    "def func(Q):\n",
    "    xs = -np.sqrt(d ** 2 - Q * d / (np.pi * U))\n",
    "    return omega(xs, 0, Q).real - phitoe\n",
    "\n",
    "from scipy.optimize import brentq\n",
    "Qmax = brentq(func, 1, np.pi * U * d)\n",
    "print(f'maximum discharge: {Qmax:.2f} m^3/d')\n",
    "print(f'Qmax as fraction of Qcr of Section 7.3: {Qmax / Qcr:.2f}')\n",
    "om1 = omega(xg, yg, Qmax)"
   ]
  },
  {
   "cell_type": "code",
   "execution_count": null,
   "metadata": {},
   "outputs": [],
   "source": [
    "xg, yg = np.meshgrid(np.linspace(-1200, 0, 120), np.linspace(-500, 500, 101))\n",
    "om = omega(xg, yg, Qmax)"
   ]
  },
  {
   "cell_type": "code",
   "execution_count": null,
   "metadata": {},
   "outputs": [],
   "source": [
    "# basic flow net and potential along y=0\n",
    "plt.subplot(121, aspect=1)\n",
    "plt.contour(xg, yg, om.real, np.arange(-2000, 2000, 100), colors='C0')\n",
    "plt.contour(xg, yg, om.real, [phitoe], colors='k')\n",
    "plt.contour(xg, yg, om.imag, np.arange(-2000, 2000, 100), colors='C1')\n",
    "plt.axvline(xtoe, color='k', linestyle='--')\n",
    "plt.xlabel('x (m)')\n",
    "plt.ylabel('y (m)')\n",
    "plt.subplot(122) # potential along y=0\n",
    "plt.plot(xg[0], om.real[50], label=r'$\\Phi(x,0)$')\n",
    "plt.axhline(phitoe, ls='--', label=r'$\\Phi_{toe}$')\n",
    "plt.legend()\n",
    "plt.xlabel('x (m)')\n",
    "plt.ylabel(r'$\\Phi$ (m$^3$/d)')\n",
    "plt.grid();"
   ]
  }
 ],
 "metadata": {
  "celltoolbar": "Tags",
  "hide_code_all_hidden": false,
  "kernelspec": {
   "display_name": "Python 3 (ipykernel)",
   "language": "python",
   "name": "python3"
  },
  "language_info": {
   "codemirror_mode": {
    "name": "ipython",
    "version": 3
   },
   "file_extension": ".py",
   "mimetype": "text/x-python",
   "name": "python",
   "nbconvert_exporter": "python",
   "pygments_lexer": "ipython3",
   "version": "3.10.5"
  },
  "latex_envs": {
   "LaTeX_envs_menu_present": true,
   "autoclose": false,
   "autocomplete": true,
   "bibliofile": "biblio.bib",
   "cite_by": "apalike",
   "current_citInitial": 1,
   "eqLabelWithNumbers": true,
   "eqNumInitial": 1,
   "hotkeys": {
    "equation": "Ctrl-E",
    "itemize": "Ctrl-I"
   },
   "labels_anchors": false,
   "latex_user_defs": false,
   "report_style_numbering": false,
   "user_envs_cfg": false
  }
 },
 "nbformat": 4,
 "nbformat_minor": 4
}